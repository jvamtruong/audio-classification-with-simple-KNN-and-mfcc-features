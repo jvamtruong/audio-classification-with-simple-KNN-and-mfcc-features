{
 "cells": [
  {
   "cell_type": "code",
   "execution_count": 151,
   "metadata": {},
   "outputs": [],
   "source": [
    "import json\n",
    "import numpy as np\n",
    "from sklearn.model_selection import train_test_split\n",
    "from sklearn.neighbors import KNeighborsClassifier\n",
    "from sklearn.metrics import classification_report\n",
    "from sklearn.preprocessing import StandardScaler, MinMaxScaler"
   ]
  },
  {
   "cell_type": "code",
   "execution_count": 152,
   "metadata": {},
   "outputs": [],
   "source": [
    "def load_data(data_path):\n",
    "    with open(data_path, 'r') as fp:\n",
    "        data = json.load(fp)\n",
    "    X = np.array(data['mfcc'])\n",
    "    y = np.array(data['labels'])\n",
    "    return X, y"
   ]
  },
  {
   "cell_type": "code",
   "execution_count": 153,
   "metadata": {},
   "outputs": [],
   "source": [
    "X, y = load_data('json data.json')\n",
    "X_train, X_test, y_train, y_test = train_test_split(X, y, test_size = 0.4, random_state = 0)"
   ]
  },
  {
   "cell_type": "code",
   "execution_count": 154,
   "metadata": {},
   "outputs": [
    {
     "data": {
      "text/plain": [
       "(100, 92, 12)"
      ]
     },
     "execution_count": 154,
     "metadata": {},
     "output_type": "execute_result"
    }
   ],
   "source": [
    "X_train.shape"
   ]
  },
  {
   "cell_type": "code",
   "execution_count": 155,
   "metadata": {},
   "outputs": [],
   "source": [
    "X_train = X_train.reshape(X_train.shape[0], -1)\n",
    "X_test = X_test.reshape(X_test.shape[0], -1)\n",
    "scaler = StandardScaler()\n",
    "scaler.fit(X_train)\n",
    "X_train = scaler.transform(X_train)\n",
    "X_test = scaler.transform(X_test)"
   ]
  },
  {
   "cell_type": "code",
   "execution_count": 156,
   "metadata": {},
   "outputs": [
    {
     "name": "stdout",
     "output_type": "stream",
     "text": [
      "best params: {'metric': 'manhattan', 'n_neighbors': 2, 'weights': 'distance'}\n",
      "accuracy: 0.9699940582293524\n",
      "classifier: KNeighborsClassifier(algorithm='auto', leaf_size=30, metric='manhattan',\n",
      "                     metric_params=None, n_jobs=None, n_neighbors=2, p=2,\n",
      "                     weights='distance')\n"
     ]
    }
   ],
   "source": [
    "from sklearn.model_selection import GridSearchCV\n",
    "\n",
    "grid_params = {\n",
    "    'n_neighbors': [2, 3, 5, 7, 8, 9, 11, 19],\n",
    "    'weights': ['uniform', 'distance'],\n",
    "    'metric': ['euclidean', 'manhattan']\n",
    "}\n",
    "\n",
    "clf = GridSearchCV(KNeighborsClassifier(), grid_params, cv = 3, scoring = 'accuracy')\n",
    "clf.fit(X_train, y_train)\n",
    "print(f'best params: {clf.best_params_}')\n",
    "print(f'accuracy: {clf.best_score_}')\n",
    "print(f'classifier: {clf.best_estimator_}')"
   ]
  },
  {
   "cell_type": "code",
   "execution_count": 157,
   "metadata": {},
   "outputs": [
    {
     "name": "stdout",
     "output_type": "stream",
     "text": [
      "              precision    recall  f1-score   support\n",
      "\n",
      "           0       0.86      1.00      0.92         6\n",
      "           1       1.00      1.00      1.00         7\n",
      "           2       1.00      1.00      1.00         6\n",
      "           3       0.17      0.50      0.25         2\n",
      "           4       1.00      1.00      1.00         5\n",
      "           5       1.00      1.00      1.00        10\n",
      "           6       1.00      0.55      0.71        11\n",
      "           7       1.00      1.00      1.00         6\n",
      "           8       1.00      1.00      1.00         5\n",
      "           9       1.00      1.00      1.00         9\n",
      "\n",
      "    accuracy                           0.91        67\n",
      "   macro avg       0.90      0.90      0.89        67\n",
      "weighted avg       0.96      0.91      0.92        67\n",
      "\n"
     ]
    }
   ],
   "source": [
    "y_pred = clf.predict(X_test)\n",
    "print(classification_report(y_pred, y_test))"
   ]
  },
  {
   "cell_type": "code",
   "execution_count": 149,
   "metadata": {},
   "outputs": [
    {
     "data": {
      "text/plain": [
       "array([9, 3, 7, 3, 5, 2, 0, 0, 4, 8, 2, 5, 9, 5, 4, 2, 4, 5, 8, 5, 6, 6,\n",
       "       9, 9, 2, 9, 1, 8, 9, 1, 0, 6, 7, 1, 3, 2, 1, 3, 5, 0, 7, 9, 8, 0,\n",
       "       3, 8, 2, 9, 1, 4, 5, 7, 5, 6, 1, 5, 7, 5, 6, 6, 0, 7, 9, 1, 4, 3,\n",
       "       0])"
      ]
     },
     "execution_count": 149,
     "metadata": {},
     "output_type": "execute_result"
    }
   ],
   "source": [
    "y_test"
   ]
  },
  {
   "cell_type": "code",
   "execution_count": 158,
   "metadata": {},
   "outputs": [
    {
     "name": "stdout",
     "output_type": "stream",
     "text": [
      "[[ 6  0  0  0  0  0  0  0  0  0]\n",
      " [ 0  7  0  0  0  0  0  0  0  0]\n",
      " [ 0  0  6  0  0  0  0  0  0  0]\n",
      " [ 1  0  0  1  0  0  0  0  0  0]\n",
      " [ 0  0  0  0  5  0  0  0  0  0]\n",
      " [ 0  0  0  0  0 10  0  0  0  0]\n",
      " [ 0  0  0  5  0  0  6  0  0  0]\n",
      " [ 0  0  0  0  0  0  0  6  0  0]\n",
      " [ 0  0  0  0  0  0  0  0  5  0]\n",
      " [ 0  0  0  0  0  0  0  0  0  9]]\n"
     ]
    }
   ],
   "source": [
    "from sklearn.metrics import confusion_matrix\n",
    "print(confusion_matrix(y_pred, y_test))"
   ]
  },
  {
   "cell_type": "code",
   "execution_count": 160,
   "metadata": {},
   "outputs": [
    {
     "name": "stdout",
     "output_type": "stream",
     "text": [
      "may_cay\n"
     ]
    }
   ],
   "source": [
    "import librosa\n",
    "category = [\n",
    "        \"cua\",\n",
    "        \"dong_co_may_bay_cat_canh\",\n",
    "        \"dong_co_xe_may\",\n",
    "        \"khoan\",\n",
    "        \"may_bom_hoi\",\n",
    "        \"may_cay\",\n",
    "        \"may_dem_tien\",\n",
    "        \"may_hut_bui\",\n",
    "        \"may_say\",\n",
    "        \"quat_suoi\"\n",
    "]\n",
    "file = 'raw data/may_cay/may_cay_13(mp3cut.net).wav'\n",
    "signal, sr = librosa.load(file, sr = 22050)\n",
    "mfcc = librosa.feature.mfcc(signal, sr = 22050, n_mfcc = 12, n_fft = 2048, hop_length = 512)\n",
    "mfcc = mfcc.T\n",
    "mfcc_pad = np.zeros((92, 12))\n",
    "mfcc_pad[:mfcc.shape[0], :] = mfcc\n",
    "mfcc_pad = mfcc_pad.reshape(1, -1)\n",
    "print(category[clf.predict(mfcc_pad)[0]])"
   ]
  },
  {
   "cell_type": "code",
   "execution_count": null,
   "metadata": {},
   "outputs": [],
   "source": []
  }
 ],
 "metadata": {
  "kernelspec": {
   "display_name": "Python 3",
   "language": "python",
   "name": "python3"
  },
  "language_info": {
   "codemirror_mode": {
    "name": "ipython",
    "version": 3
   },
   "file_extension": ".py",
   "mimetype": "text/x-python",
   "name": "python",
   "nbconvert_exporter": "python",
   "pygments_lexer": "ipython3",
   "version": "3.7.6"
  }
 },
 "nbformat": 4,
 "nbformat_minor": 4
}
